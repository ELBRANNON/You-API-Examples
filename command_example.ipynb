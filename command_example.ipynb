{
 "cells": [
  {
   "cell_type": "markdown",
   "id": "51c76d98",
   "metadata": {},
   "source": [
    "## Welcome to You.com's Search API\n",
    "### Access Keys\n",
    "You will need to have the environment variables `AUTH_KEY` and `COHERE_API_KEY` set for this notebook to fully work."
   ]
  },
  {
   "cell_type": "code",
   "execution_count": null,
   "id": "86b35f4a",
   "metadata": {},
   "outputs": [],
   "source": [
    "!pip install cohere"
   ]
  },
  {
   "cell_type": "code",
   "execution_count": null,
   "id": "c0007036",
   "metadata": {},
   "outputs": [],
   "source": [
    "import os\n",
    "\n",
    "\n",
    "if not os.getenv(\"AUTH_KEY\") or not os.getenv(\"COHERE_API_KEY\"):\n",
    "    raise RuntimeError(\"You need to set both AUTH_KEY and COHERE_API_KEY environment variables to proceed\")\n",
    "\n",
    "    \n",
    "try:\n",
    "    import cohere\n",
    "except:\n",
    "    raise RuntimeError(\"Cohere library is not installed\")\n",
    "\n",
    "    \n",
    "cohere_client = cohere.Client(os.getenv(\"COHERE_API_KEY\"))"
   ]
  },
  {
   "cell_type": "markdown",
   "id": "67d0d549",
   "metadata": {},
   "source": [
    "### Define Utility Functions\n",
    "We use the requests library to interface with the You.com API currently with plans to have a dedicated Python package in the near future. We use the Cohere Python client to interface with the Command model."
   ]
  },
  {
   "cell_type": "code",
   "execution_count": null,
   "id": "96a6b0a9",
   "metadata": {},
   "outputs": [],
   "source": [
    "import requests\n",
    "\n",
    "from itertools import chain\n",
    "\n",
    "\n",
    "def get_ai_snippets_for_query(query):\n",
    "    headers = {\"X-API-Key\": os.environ[\"AUTH_KEY\"]}\n",
    "    results = requests.get(\n",
    "        f\"https://api.ydc-index.io/search?query={query}\",\n",
    "        headers=headers,\n",
    "    ).json()\n",
    "        \n",
    "    # We return many text snippets for each search hit so we need to explode both levels\n",
    "    return \"\\n\".join([\"\\n\".join(hit[\"snippets\"]) for hit in results[\"hits\"]])\n",
    "\n",
    "\n",
    "def get_cohere_prompt(query, context):\n",
    "    return f\"\"\"given a question and a bunch of snippets context try to answer the question using the context. If you can't please say 'Sorry hooman, no dice'.\n",
    "question: {query}\n",
    "context: {context}\n",
    "answer: \"\"\"\n",
    "\n",
    "\n",
    "def ask_cohere(query, context):\n",
    "    try:\n",
    "        return cohere_client.generate(prompt=get_cohere_prompt(query, context))[\n",
    "            0\n",
    "        ].text\n",
    "    except:\n",
    "        logging.error(\n",
    "            f\"Cohere call failed for query {query} and context {context}\",\n",
    "            exc_info=True,\n",
    "        )\n",
    "        return \"Sorry hooman, no dice\"\n",
    "\n",
    "\n",
    "def ask_cohere_with_ai_snippets(query):\n",
    "    ai_snippets = get_ai_snippets_for_query(query)\n",
    "    return ask_cohere(query, ai_snippets)"
   ]
  },
  {
   "cell_type": "markdown",
   "id": "f8208f10",
   "metadata": {},
   "source": [
    "### Now ask a question!"
   ]
  },
  {
   "cell_type": "code",
   "execution_count": null,
   "id": "d1d4cceb",
   "metadata": {},
   "outputs": [],
   "source": [
    "ask_cohere_with_ai_snippets(\"Who is the CEO of Cohere?\")"
   ]
  }
 ],
 "metadata": {
  "kernelspec": {
   "display_name": "Python 3 (ipykernel)",
   "language": "python",
   "name": "python3"
  },
  "language_info": {
   "codemirror_mode": {
    "name": "ipython",
    "version": 3
   },
   "file_extension": ".py",
   "mimetype": "text/x-python",
   "name": "python",
   "nbconvert_exporter": "python",
   "pygments_lexer": "ipython3",
   "version": "3.9.17"
  }
 },
 "nbformat": 4,
 "nbformat_minor": 5
}
